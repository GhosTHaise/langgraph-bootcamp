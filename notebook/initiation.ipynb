{
 "cells": [
  {
   "cell_type": "markdown",
   "id": "475527e3",
   "metadata": {},
   "source": [
    "# Hello World Agent"
   ]
  },
  {
   "cell_type": "code",
   "execution_count": 1,
   "id": "c51a299e",
   "metadata": {},
   "outputs": [],
   "source": [
    "from typing import Dict, TypedDict\n",
    "from langgraph.graph import StateGraph"
   ]
  },
  {
   "cell_type": "code",
   "execution_count": 2,
   "id": "11e1da45",
   "metadata": {},
   "outputs": [],
   "source": [
    "# We now create an AgentState - shared data structure that keeps track of information as your application runs.\n",
    "\n",
    "class AgentState(TypedDict):\n",
    "    message : str\n",
    "    \n",
    "    \n",
    "def greeting_node(state : AgentState) -> AgentState:\n",
    "    \"\"\"Simple node that adds a greeting message to the state.\"\"\"\n",
    "    \n",
    "    state['message'] = \"Hey \" + state['message'] + \", how is your day going?\"\n",
    "    \n",
    "    return state"
   ]
  },
  {
   "cell_type": "code",
   "execution_count": 6,
   "id": "17072d6b",
   "metadata": {},
   "outputs": [],
   "source": [
    "graph = StateGraph(AgentState)\n",
    "\n",
    "graph.add_node(\"greeter\", greeting_node)\n",
    "\n",
    "graph.set_entry_point(\"greeter\")\n",
    "graph.set_finish_point(\"greeter\")\n",
    "\n",
    "app = graph.compile()"
   ]
  },
  {
   "cell_type": "code",
   "execution_count": 7,
   "id": "c5159c57",
   "metadata": {},
   "outputs": [],
   "source": [
    "result = app.invoke({\"message\" : \"Ghost\"})"
   ]
  },
  {
   "cell_type": "code",
   "execution_count": 8,
   "id": "b6ded1a1",
   "metadata": {},
   "outputs": [
    {
     "data": {
      "text/plain": [
       "'Hey Ghost, how is your day going?'"
      ]
     },
     "execution_count": 8,
     "metadata": {},
     "output_type": "execute_result"
    }
   ],
   "source": [
    "result[\"message\"]"
   ]
  },
  {
   "cell_type": "code",
   "execution_count": null,
   "id": "176469c5",
   "metadata": {},
   "outputs": [],
   "source": []
  },
  {
   "cell_type": "code",
   "execution_count": null,
   "id": "aa07fe81",
   "metadata": {},
   "outputs": [],
   "source": []
  }
 ],
 "metadata": {
  "kernelspec": {
   "display_name": "langgraph-bootcamp",
   "language": "python",
   "name": "python3"
  },
  "language_info": {
   "codemirror_mode": {
    "name": "ipython",
    "version": 3
   },
   "file_extension": ".py",
   "mimetype": "text/x-python",
   "name": "python",
   "nbconvert_exporter": "python",
   "pygments_lexer": "ipython3",
   "version": "3.12.3"
  }
 },
 "nbformat": 4,
 "nbformat_minor": 5
}

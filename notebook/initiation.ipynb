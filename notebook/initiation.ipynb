{
 "cells": [
  {
   "cell_type": "markdown",
   "id": "475527e3",
   "metadata": {},
   "source": [
    "# Hello World Agent"
   ]
  },
  {
   "cell_type": "code",
   "execution_count": null,
   "id": "c51a299e",
   "metadata": {},
   "outputs": [],
   "source": [
    "from typing import Dict, TypedDict , \n",
    "from langgraph.graph import StateGraph"
   ]
  },
  {
   "cell_type": "code",
   "execution_count": null,
   "id": "11e1da45",
   "metadata": {},
   "outputs": [],
   "source": [
    "# We now create an AgentState - shared data structure that keeps track of information as your application runs."
   ]
  },
  {
   "cell_type": "code",
   "execution_count": null,
   "id": "17072d6b",
   "metadata": {},
   "outputs": [],
   "source": []
  },
  {
   "cell_type": "code",
   "execution_count": null,
   "id": "176469c5",
   "metadata": {},
   "outputs": [],
   "source": []
  },
  {
   "cell_type": "code",
   "execution_count": null,
   "id": "aa07fe81",
   "metadata": {},
   "outputs": [],
   "source": []
  }
 ],
 "metadata": {
  "kernelspec": {
   "display_name": ".venv",
   "language": "python",
   "name": "python3"
  },
  "language_info": {
   "codemirror_mode": {
    "name": "ipython",
    "version": 3
   },
   "file_extension": ".py",
   "mimetype": "text/x-python",
   "name": "python",
   "nbconvert_exporter": "python",
   "pygments_lexer": "ipython3",
   "version": "3.12.3"
  }
 },
 "nbformat": 4,
 "nbformat_minor": 5
}

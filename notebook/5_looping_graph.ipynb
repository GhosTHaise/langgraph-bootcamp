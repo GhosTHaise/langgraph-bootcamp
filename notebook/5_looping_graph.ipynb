{
 "cells": [
  {
   "cell_type": "code",
   "execution_count": 1,
   "id": "245c8f22",
   "metadata": {},
   "outputs": [],
   "source": [
    "from langgraph.graph import StateGraph\n",
    "import random \n",
    "from typing import Dict, List, TypedDict"
   ]
  },
  {
   "cell_type": "code",
   "execution_count": 2,
   "id": "34b5f936",
   "metadata": {},
   "outputs": [],
   "source": [
    "class AgentState(TypedDict):\n",
    "    name : str\n",
    "    number : List[int]\n",
    "    counter : int"
   ]
  },
  {
   "cell_type": "code",
   "execution_count": 3,
   "id": "fd2cba47",
   "metadata": {},
   "outputs": [],
   "source": [
    "def greeting_node(state : AgentState) -> AgentState:\n",
    "    \"\"\" Greeting Node which says hi to the person \"\"\"\n",
    "    state[\"name\"] = f\"Hi there, {state[\"name\"]}\"\n",
    "    state[\"counter\"] = 0\n",
    "    \n",
    "    return state\n",
    "\n",
    "def random_node(state : AgentState) -> AgentState:\n",
    "    \"\"\" Random Node which picks a random number between 1 and 10 \"\"\"\n",
    "    state[\"number\"].append(random.randint(1, 10))\n",
    "    state[\"counter\"] += 1\n",
    "    \n",
    "    return state"
   ]
  },
  {
   "cell_type": "code",
   "execution_count": null,
   "id": "0c14f7b0",
   "metadata": {},
   "outputs": [],
   "source": []
  }
 ],
 "metadata": {
  "kernelspec": {
   "display_name": "langgraph-bootcamp",
   "language": "python",
   "name": "python3"
  },
  "language_info": {
   "codemirror_mode": {
    "name": "ipython",
    "version": 3
   },
   "file_extension": ".py",
   "mimetype": "text/x-python",
   "name": "python",
   "nbconvert_exporter": "python",
   "pygments_lexer": "ipython3",
   "version": "3.12.3"
  }
 },
 "nbformat": 4,
 "nbformat_minor": 5
}

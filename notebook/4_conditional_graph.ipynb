{
 "cells": [
  {
   "cell_type": "code",
   "execution_count": null,
   "id": "1e67bcd4",
   "metadata": {},
   "outputs": [],
   "source": []
  },
  {
   "cell_type": "code",
   "execution_count": 1,
   "id": "100d49e7",
   "metadata": {},
   "outputs": [],
   "source": [
    "from typing import TypedDict\n",
    "from langgraph.graph import StateGraph, START, END"
   ]
  },
  {
   "cell_type": "code",
   "execution_count": 2,
   "id": "35ea64bd",
   "metadata": {},
   "outputs": [],
   "source": [
    "class AgentState(TypedDict):\n",
    "     number1 : int\n",
    "     operation:str\n",
    "     number2:int\n",
    "     finalNumber:int"
   ]
  },
  {
   "cell_type": "code",
   "execution_count": 3,
   "id": "adde6adc",
   "metadata": {},
   "outputs": [],
   "source": [
    "def adder(state  :AgentState) -> AgentState:\n",
    "    \"\"\" This node adds two numnbers together and returns the result \"\"\"\n",
    "    \n",
    "    state[\"finalNumber\"] = state[\"number1\"] + state[\"number2\"]\n",
    "    return state\n",
    "\n",
    "def subtractor(state  :AgentState) -> AgentState:\n",
    "    \"\"\" This node substracts two numnbers together and returns the result \"\"\"\n",
    "    \n",
    "    state[\"finalNumber\"] = state[\"number1\"] - state[\"number2\"]\n",
    "    return state\n",
    "\n",
    "def decide_next_node(state : AgentState) -> AgentState:\n",
    "    \"\"\" This node decides which node to run next (the conditional node) \"\"\"\n",
    "    \n",
    "    if state[\"operation\"] == \"+\":\n",
    "        return \"addition_operation\"\n",
    "\n",
    "    elif state[\"operation\"] == \"-\":\n",
    "        return \"subtraction_operation\""
   ]
  },
  {
   "cell_type": "code",
   "execution_count": 4,
   "id": "9b7121f4",
   "metadata": {},
   "outputs": [],
   "source": [
    "graph = StateGraph(AgentState)\n",
    "\n",
    "graph.add_node(\"add_node\", adder)\n",
    "graph.add_node(\"subtract_node\", subtractor)\n",
    "graph.add_node(\"router\", lambda state : state) # passthrough function\n",
    "\n",
    "graph.add_edge(START, \"router\")\n",
    "graph.add_conditional_edges(\n",
    "    \"router\",\n",
    "    decide_next_node,\n",
    "    {\n",
    "        # Edge : Node\n",
    "        \"addition_operation\" : \"add_node\",\n",
    "        \"subtraction_operation\" : \"subtract_node\"\n",
    "    }\n",
    ")\n",
    "\n",
    "graph.add_edge(\"add_node\", END)\n",
    "graph.add_edge(\"subtract_node\", END)\n",
    "\n",
    "app = graph.compile()\n",
    "\n"
   ]
  },
  {
   "cell_type": "code",
   "execution_count": 5,
   "id": "b7068cfe",
   "metadata": {},
   "outputs": [
    {
     "data": {
      "image/png": "[encoded data removed]",
      "text/plain": [
       "<IPython.core.display.Image object>"
      ]
     },
     "metadata": {},
     "output_type": "display_data"
    }
   ],
   "source": [
    "from IPython.display import Image , display\n",
    "display(Image(app.get_graph().draw_mermaid_png()))"
   ]
  },
  {
   "cell_type": "code",
   "execution_count": 6,
   "id": "14b792cc",
   "metadata": {},
   "outputs": [
    {
     "name": "stdout",
     "output_type": "stream",
     "text": [
      "{'number1': 10, 'operation': '-', 'number2': 4, 'finalNumber': 6}\n",
      "{'number1': 10, 'operation': '-', 'number2': 4, 'finalNumber': 6}\n"
     ]
    }
   ],
   "source": [
    "initial_state_1 = AgentState(number1 = 10, operation=\"-\", number2=4)\n",
    "print(app.invoke(initial_state_1))\n",
    "initial_state_2 = AgentState(number1 = 10, operation=\"+\", number2=4)\n",
    "print(app.invoke(initial_state_1))"
   ]
  }
 ],
 "metadata": {
  "kernelspec": {
   "display_name": "langgraph-bootcamp",
   "language": "python",
   "name": "python3"
  },
  "language_info": {
   "codemirror_mode": {
    "name": "ipython",
    "version": 3
   },
   "file_extension": ".py",
   "mimetype": "text/x-python",
   "name": "python",
   "nbconvert_exporter": "python",
   "pygments_lexer": "ipython3",
   "version": "3.12.3"
  }
 },
 "nbformat": 4,
 "nbformat_minor": 5
}

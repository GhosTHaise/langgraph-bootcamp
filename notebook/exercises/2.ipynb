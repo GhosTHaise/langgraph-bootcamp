{
 "cells": [
  {
   "cell_type": "code",
   "execution_count": 8,
   "id": "213a0c01",
   "metadata": {},
   "outputs": [],
   "source": [
    "from  typing import TypedDict, List\n",
    "from langgraph.graph import StateGraph\n",
    "import math\n"
   ]
  },
  {
   "cell_type": "code",
   "execution_count": 9,
   "id": "b852ce31",
   "metadata": {},
   "outputs": [],
   "source": [
    "class State(TypedDict):\n",
    "    name: str\n",
    "    values: List[int]\n",
    "    operation: str\n",
    "    result : str\n",
    "    \n",
    "\n",
    "def process(state: State) -> State:\n",
    "    base_message = f\"Hi {state['name']}, your answer is\"\n",
    "    if state['operation'] == \"+\":\n",
    "        state[\"result\"] = f\"{base_message} {sum(state['values'])}\"\n",
    "    elif state['operation'] == \"*\":\n",
    "        state[\"result\"] = f\"{base_message} {math.prod(state['values'])}\"  \n",
    "    \n",
    "    return state"
   ]
  },
  {
   "cell_type": "code",
   "execution_count": 10,
   "id": "a0392513",
   "metadata": {},
   "outputs": [],
   "source": [
    "graph = StateGraph(State)\n",
    "\n",
    "graph.add_node(\"process\", process)\n",
    "graph.set_entry_point(\"process\")\n",
    "graph.set_finish_point(\"process\")\n",
    "\n",
    "app = graph.compile()"
   ]
  },
  {
   "cell_type": "code",
   "execution_count": 11,
   "id": "4a070336",
   "metadata": {},
   "outputs": [
    {
     "data": {
      "text/plain": [
       "{'name': 'Fitiavana',\n",
       " 'values': [1, 2, 3],\n",
       " 'operation': '+',\n",
       " 'result': 'Hi Fitiavana, your answer is 6'}"
      ]
     },
     "execution_count": 11,
     "metadata": {},
     "output_type": "execute_result"
    }
   ],
   "source": [
    "app.invoke({\"name\" : \"Fitiavana\", \"values\" : [1, 2, 3] , \"operation\" : \"+\"})  "
   ]
  },
  {
   "cell_type": "code",
   "execution_count": 12,
   "id": "53087d23",
   "metadata": {},
   "outputs": [
    {
     "data": {
      "text/plain": [
       "{'name': 'Fitiavana',\n",
       " 'values': [1, 2, 3],\n",
       " 'operation': '*',\n",
       " 'result': 'Hi Fitiavana, your answer is 6'}"
      ]
     },
     "execution_count": 12,
     "metadata": {},
     "output_type": "execute_result"
    }
   ],
   "source": [
    "app.invoke({\"name\" : \"Fitiavana\", \"values\" : [1, 2, 3] , \"operation\" : \"*\"})  \n"
   ]
  },
  {
   "cell_type": "code",
   "execution_count": null,
   "id": "80279565",
   "metadata": {},
   "outputs": [],
   "source": []
  }
 ],
 "metadata": {
  "kernelspec": {
   "display_name": "langgraph-bootcamp",
   "language": "python",
   "name": "python3"
  },
  "language_info": {
   "codemirror_mode": {
    "name": "ipython",
    "version": 3
   },
   "file_extension": ".py",
   "mimetype": "text/x-python",
   "name": "python",
   "nbconvert_exporter": "python",
   "pygments_lexer": "ipython3",
   "version": "3.12.3"
  }
 },
 "nbformat": 4,
 "nbformat_minor": 5
}

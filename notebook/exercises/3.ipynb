{
 "cells": [
  {
   "cell_type": "code",
   "execution_count": 26,
   "id": "f040a2c1",
   "metadata": {},
   "outputs": [],
   "source": [
    "from typing import TypedDict, List\n",
    "from langgraph.graph import StateGraph"
   ]
  },
  {
   "cell_type": "code",
   "execution_count": 27,
   "id": "46939f2d",
   "metadata": {},
   "outputs": [],
   "source": [
    "class AgentState(TypedDict):\n",
    "    name : str\n",
    "    age : int\n",
    "    skills : List[str]\n",
    "    final : str"
   ]
  },
  {
   "cell_type": "code",
   "execution_count": 28,
   "id": "38784355",
   "metadata": {},
   "outputs": [],
   "source": [
    "def first_node(state : AgentState) -> AgentState:\n",
    "    \"\"\" Welcome node \"\"\"\n",
    "    \n",
    "    state[\"final\"] = f\"{state[\"name\"]}, welcome to the system!\"\n",
    "    return state\n",
    "\n",
    "def second_node(state : AgentState) -> AgentState:\n",
    "    \"\"\" Age node \"\"\"\n",
    "    \n",
    "    state[\"final\"] =  state[\"final\"] +  f\" You are {state['age']} years old! \"\n",
    "    return state\n",
    "\n",
    "def third_node(state : AgentState) -> AgentState:\n",
    "    \"\"\" skills node \"\"\"\n",
    "    skills = state[\"skills\"]\n",
    "    skills_str = \", \".join(skills)\n",
    "    state[\"final\"] = state[\"final\"] + (f\" You have skills in: {skills_str}\" if len(skills) > 0 else \"\")\n",
    "    return state"
   ]
  },
  {
   "cell_type": "code",
   "execution_count": 29,
   "id": "dcd51036",
   "metadata": {},
   "outputs": [
    {
     "data": {
      "text/plain": [
       "<langgraph.graph.state.StateGraph at 0x7cb6b91b7680>"
      ]
     },
     "execution_count": 29,
     "metadata": {},
     "output_type": "execute_result"
    }
   ],
   "source": [
    "graph = StateGraph(AgentState)\n",
    "\n",
    "graph.add_node(\"first_node\" , first_node)\n",
    "graph.add_node(\"second_node\" , second_node)\n",
    "graph.add_node(\"third_node\" , third_node)"
   ]
  },
  {
   "cell_type": "code",
   "execution_count": 30,
   "id": "2947b73f",
   "metadata": {},
   "outputs": [
    {
     "data": {
      "text/plain": [
       "<langgraph.graph.state.StateGraph at 0x7cb6b91b7680>"
      ]
     },
     "execution_count": 30,
     "metadata": {},
     "output_type": "execute_result"
    }
   ],
   "source": [
    "graph.set_entry_point(\"first_node\")\n",
    "graph.add_edge(\"first_node\", \"second_node\")\n",
    "graph.add_edge(\"second_node\", \"third_node\")\n",
    "graph.set_finish_point(\"third_node\")"
   ]
  },
  {
   "cell_type": "code",
   "execution_count": 31,
   "id": "20f23a17",
   "metadata": {},
   "outputs": [],
   "source": [
    "app = graph.compile()"
   ]
  },
  {
   "cell_type": "code",
   "execution_count": 33,
   "id": "a2d2399f",
   "metadata": {},
   "outputs": [
    {
     "data": {
      "image/jpeg": "[encoded data removed]",
      "text/plain": [
       "<IPython.core.display.Image object>"
      ]
     },
     "metadata": {},
     "output_type": "display_data"
    }
   ],
   "source": [
    "from IPython.display import Image , display\n",
    "display(Image(app.get_graph().draw_mermaid_png()))"
   ]
  },
  {
   "cell_type": "code",
   "execution_count": 32,
   "id": "8c376b3d",
   "metadata": {},
   "outputs": [],
   "source": [
    "result = app.invoke({\"name\" : \"Fitiavane\", \"age\" : 22, \"skills\" : [\"python\", \"javascript\", \"java\"]})"
   ]
  },
  {
   "cell_type": "code",
   "execution_count": 34,
   "id": "cd619b01",
   "metadata": {},
   "outputs": [
    {
     "data": {
      "text/plain": [
       "{'name': 'Fitiavane',\n",
       " 'age': 22,\n",
       " 'skills': ['python', 'javascript', 'java'],\n",
       " 'final': 'Fitiavane, welcome to the system! You are 22 years old!  You have skills in: python, javascript, java'}"
      ]
     },
     "execution_count": 34,
     "metadata": {},
     "output_type": "execute_result"
    }
   ],
   "source": [
    "result"
   ]
  }
 ],
 "metadata": {
  "kernelspec": {
   "display_name": "langgraph-bootcamp",
   "language": "python",
   "name": "python3"
  },
  "language_info": {
   "codemirror_mode": {
    "name": "ipython",
    "version": 3
   },
   "file_extension": ".py",
   "mimetype": "text/x-python",
   "name": "python",
   "nbconvert_exporter": "python",
   "pygments_lexer": "ipython3",
   "version": "3.12.3"
  }
 },
 "nbformat": 4,
 "nbformat_minor": 5
}

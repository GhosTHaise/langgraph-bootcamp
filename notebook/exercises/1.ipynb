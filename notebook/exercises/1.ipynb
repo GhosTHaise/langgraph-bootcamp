{
 "cells": [
  {
   "cell_type": "code",
   "execution_count": 4,
   "id": "471dfa7e",
   "metadata": {},
   "outputs": [],
   "source": [
    "from typing import TypedDict\n",
    "from langgraph.graph import StateGraph"
   ]
  },
  {
   "cell_type": "code",
   "execution_count": 7,
   "id": "7d6576fd",
   "metadata": {},
   "outputs": [],
   "source": [
    "class PersonState(TypedDict):\n",
    "    name : str\n",
    "    message : str\n",
    "    \n",
    "def congratulate(state : PersonState) -> PersonState:\n",
    "    \"\"\" Congratulate the person \"\"\"\n",
    "    state[\"message\"] = f\"Congratulations {state['name']}! You just got your first message!\"\n",
    "    return state"
   ]
  },
  {
   "cell_type": "code",
   "execution_count": 10,
   "id": "80ae3cba",
   "metadata": {},
   "outputs": [],
   "source": [
    "graph = StateGraph(PersonState)\n",
    "graph.add_node(\"congratulate\", congratulate)\n",
    "\n",
    "graph.set_entry_point(\"congratulate\")\n",
    "graph.set_finish_point(\"congratulate\")\n",
    "\n",
    "app = graph.compile()"
   ]
  },
  {
   "cell_type": "code",
   "execution_count": 13,
   "id": "7e976c14",
   "metadata": {},
   "outputs": [
    {
     "data": {
      "text/plain": [
       "'Congratulations Ghost! You just got your first message!'"
      ]
     },
     "execution_count": 13,
     "metadata": {},
     "output_type": "execute_result"
    }
   ],
   "source": [
    "result = app.invoke({\"name\" : \"Ghost\"}) \n",
    "result[\"message\"]"
   ]
  },
  {
   "cell_type": "code",
   "execution_count": 14,
   "id": "601e7833",
   "metadata": {},
   "outputs": [
    {
     "data": {
      "image/png": "[encoded data removed]",
      "text/plain": [
       "<IPython.core.display.Image object>"
      ]
     },
     "metadata": {},
     "output_type": "display_data"
    }
   ],
   "source": [
    "\n",
    "\n",
    "from IPython.display import Image, display\n",
    "display(Image(app.get_graph().draw_mermaid_png()))\n",
    "\n"
   ]
  }
 ],
 "metadata": {
  "kernelspec": {
   "display_name": "langgraph-bootcamp",
   "language": "python",
   "name": "python3"
  },
  "language_info": {
   "codemirror_mode": {
    "name": "ipython",
    "version": 3
   },
   "file_extension": ".py",
   "mimetype": "text/x-python",
   "name": "python",
   "nbconvert_exporter": "python",
   "pygments_lexer": "ipython3",
   "version": "3.12.3"
  }
 },
 "nbformat": 4,
 "nbformat_minor": 5
}

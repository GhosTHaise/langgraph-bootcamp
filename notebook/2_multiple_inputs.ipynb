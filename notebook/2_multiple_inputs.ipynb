{
 "cells": [
  {
   "cell_type": "code",
   "execution_count": 18,
   "id": "2a39c9f8",
   "metadata": {},
   "outputs": [],
   "source": [
    "from typing import TypedDict, List\n",
    "from langgraph.graph import StateGraph"
   ]
  },
  {
   "cell_type": "code",
   "execution_count": 19,
   "id": "427367cf",
   "metadata": {},
   "outputs": [],
   "source": [
    "class AgentState(TypedDict):\n",
    "    values : List[int]\n",
    "    name : str\n",
    "    result : str"
   ]
  },
  {
   "cell_type": "code",
   "execution_count": 20,
   "id": "f2e37bab",
   "metadata": {},
   "outputs": [],
   "source": [
    "def process_values(state : AgentState) -> AgentState:\n",
    "    \"\"\" This function handles multiple inputs.\"\"\"\n",
    "    print(state)\n",
    "    \n",
    "    \n",
    "    state[\"result\"] = f\"HI there {state['name']}! Your sum = {sum(state['values'])}\"\n",
    "    \n",
    "    print(state)\n",
    "    return state"
   ]
  },
  {
   "cell_type": "code",
   "execution_count": 21,
   "id": "486571dd",
   "metadata": {},
   "outputs": [],
   "source": [
    "graph = StateGraph(AgentState)\n",
    "graph.add_node(\"process\", process_values)\n",
    "\n",
    "graph.set_entry_point(\"process\")\n",
    "graph.set_finish_point(\"process\")\n",
    "\n",
    "app = graph.compile()\n",
    "\n"
   ]
  },
  {
   "cell_type": "code",
   "execution_count": 22,
   "id": "533d16a4",
   "metadata": {},
   "outputs": [
    {
     "data": {
      "image/png": "[encoded data removed]",
      "text/plain": [
       "<IPython.core.display.Image object>"
      ]
     },
     "metadata": {},
     "output_type": "display_data"
    }
   ],
   "source": [
    "from IPython.display import Image , display\n",
    "display(Image(app.get_graph().draw_mermaid_png()))"
   ]
  },
  {
   "cell_type": "code",
   "execution_count": 23,
   "id": "51dcfde8",
   "metadata": {},
   "outputs": [
    {
     "name": "stdout",
     "output_type": "stream",
     "text": [
      "{'values': [1, 2, 3, 4], 'name': 'GhosT'}\n",
      "{'values': [1, 2, 3, 4], 'name': 'GhosT', 'result': 'HI there GhosT! Your sum = 10'}\n"
     ]
    }
   ],
   "source": [
    "answers = app.invoke({\"values\": [1,2,3,4], \"name\" : \"GhosT\"})"
   ]
  },
  {
   "cell_type": "code",
   "execution_count": 24,
   "id": "73284990",
   "metadata": {},
   "outputs": [
    {
     "data": {
      "text/plain": [
       "{'values': [1, 2, 3, 4],\n",
       " 'name': 'GhosT',\n",
       " 'result': 'HI there GhosT! Your sum = 10'}"
      ]
     },
     "execution_count": 24,
     "metadata": {},
     "output_type": "execute_result"
    }
   ],
   "source": [
    "answers"
   ]
  }
 ],
 "metadata": {
  "kernelspec": {
   "display_name": "langgraph-bootcamp",
   "language": "python",
   "name": "python3"
  },
  "language_info": {
   "codemirror_mode": {
    "name": "ipython",
    "version": 3
   },
   "file_extension": ".py",
   "mimetype": "text/x-python",
   "name": "python",
   "nbconvert_exporter": "python",
   "pygments_lexer": "ipython3",
   "version": "3.12.3"
  }
 },
 "nbformat": 4,
 "nbformat_minor": 5
}
